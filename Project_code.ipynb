{
  "nbformat": 4,
  "nbformat_minor": 0,
  "metadata": {
    "colab": {
      "provenance": [],
      "gpuType": "T4",
      "authorship_tag": "ABX9TyN6fzpiAUIMLzhCr32GSGfF",
      "include_colab_link": true
    },
    "kernelspec": {
      "name": "python3",
      "display_name": "Python 3"
    },
    "language_info": {
      "name": "python"
    },
    "accelerator": "GPU"
  },
  "cells": [
    {
      "cell_type": "markdown",
      "metadata": {
        "id": "view-in-github",
        "colab_type": "text"
      },
      "source": [
        "<a href=\"https://colab.research.google.com/github/frost3242/Project_Image_Denoising/blob/main/Project_code.ipynb\" target=\"_parent\"><img src=\"https://colab.research.google.com/assets/colab-badge.svg\" alt=\"Open In Colab\"/></a>"
      ]
    },
    {
      "cell_type": "code",
      "execution_count": null,
      "metadata": {
        "colab": {
          "base_uri": "https://localhost:8080/"
        },
        "id": "TNi0NwDyH7es",
        "outputId": "6b6fda86-4f84-4999-a300-99a10c3ced65"
      },
      "outputs": [
        {
          "output_type": "stream",
          "name": "stdout",
          "text": [
            "Mounted at /content/drive\n"
          ]
        }
      ],
      "source": [
        "from google.colab import drive\n",
        "drive.mount('/content/drive')"
      ]
    },
    {
      "cell_type": "code",
      "source": [
        "import os\n",
        "import zipfile\n",
        "from google.colab import drive\n",
        "\n",
        "\n",
        "zip_file_path = '/content/drive/MyDrive/Train.zip'\n",
        "extract_dir = '/content/extracted_dataset'\n",
        "\n",
        "# Extract the ZIP file\n",
        "if not os.path.exists(extract_dir):\n",
        "    with zipfile.ZipFile(zip_file_path, 'r') as zip_ref:\n",
        "        zip_ref.extractall(extract_dir)\n",
        "\n",
        "\n"
      ],
      "metadata": {
        "id": "ePIH0SyAIIN2"
      },
      "execution_count": null,
      "outputs": []
    },
    {
      "cell_type": "code",
      "source": [
        "pip install -q tensorflow numpy opencv-python"
      ],
      "metadata": {
        "id": "Tr4G8oifKNG8"
      },
      "execution_count": null,
      "outputs": []
    },
    {
      "cell_type": "code",
      "source": [
        "pip install -q scikit-learn"
      ],
      "metadata": {
        "id": "jYnGlMSIKmse"
      },
      "execution_count": null,
      "outputs": []
    },
    {
      "cell_type": "code",
      "source": [
        "pip install  -q keras"
      ],
      "metadata": {
        "id": "o17FZavTKpiT"
      },
      "execution_count": null,
      "outputs": []
    },
    {
      "cell_type": "code",
      "source": [
        "from tensorflow.keras.preprocessing.image import img_to_array, load_img"
      ],
      "metadata": {
        "id": "DpsOPonhKtqg"
      },
      "execution_count": null,
      "outputs": []
    },
    {
      "cell_type": "code",
      "source": [
        "import torch\n",
        "import torch.nn as nn\n",
        "import torch.optim as optim\n",
        "from torch.utils.data import Dataset, DataLoader\n",
        "from torchvision import transforms\n",
        "from torchvision.datasets import ImageFolder\n",
        "from torchvision.utils import save_image\n",
        "from PIL import Image\n",
        "\n",
        "# Define a simple convolutional neural network for super-resolution\n",
        "class SRCNN(nn.Module):\n",
        "    def __init__(self):\n",
        "        super(SRCNN, self).__init__()\n",
        "        self.conv1 = nn.Conv2d(3, 64, kernel_size=9, padding=4)\n",
        "        self.conv2 = nn.Conv2d(64, 32, kernel_size=1, padding=0)\n",
        "        self.conv3 = nn.Conv2d(32, 3, kernel_size=5, padding=2)\n",
        "        self.relu = nn.ReLU()\n",
        "\n",
        "    def forward(self, x):\n",
        "        x = self.relu(self.conv1(x))\n",
        "        x = self.relu(self.conv2(x))\n",
        "        x = self.conv3(x)\n",
        "        return x"
      ],
      "metadata": {
        "id": "O05_nlSkKueF"
      },
      "execution_count": null,
      "outputs": []
    },
    {
      "cell_type": "code",
      "source": [
        "# Set up transforms for input images (you can adjust these as needed)\n",
        "transform = transforms.Compose([\n",
        "    transforms.ToTensor(),\n",
        "])\n",
        "\n",
        "# Load dataset using ImageFolder\n",
        "train_dataset = ImageFolder(root='/content/extracted_dataset/Train', transform=transform)\n",
        "\n",
        "# Set up dataloader\n",
        "train_dataloader = DataLoader(train_dataset, batch_size=32, shuffle=True, num_workers=4)\n",
        "\n",
        "# Training function\n",
        "def train_model(model, criterion, optimizer, dataloader, num_epochs=50):\n",
        "    device = torch.device(\"cuda\" if torch.cuda.is_available() else \"cpu\")\n",
        "    model.to(device)\n",
        "    model.train()\n",
        "\n",
        "    for epoch in range(num_epochs):\n",
        "        running_loss = 0.0\n",
        "        for i, (lr_images, hr_images) in enumerate(dataloader):\n",
        "            hr_images = lr_images    # Assuming LR images are stored as HR images for simplicity in ImageFolder\n",
        "\n",
        "            lr_images = lr_images.to(device)\n",
        "            hr_images = hr_images.to(device)\n",
        "\n",
        "            optimizer.zero_grad()\n",
        "\n",
        "            outputs = model(lr_images)\n",
        "            loss = criterion(outputs, hr_images)\n",
        "            loss.backward()\n",
        "            optimizer.step()\n",
        "\n",
        "            running_loss += loss.item()\n",
        "\n",
        "            if i % 10 == 9:    # Print every 10 mini-batches\n",
        "                print('[%d, %5d] loss: %.3f' %\n",
        "                      (epoch + 1, i + 1, running_loss / 10))\n",
        "                running_loss = 0.0\n",
        "\n",
        "    print('Finished Training')"
      ],
      "metadata": {
        "id": "c7R2dTiyK21s"
      },
      "execution_count": 35,
      "outputs": []
    },
    {
      "cell_type": "code",
      "source": [
        "def evaluate_model(model, criterion, dataloader):\n",
        "    device = torch.device(\"cuda\" if torch.cuda.is_available() else \"cpu\")\n",
        "    model.to(device)\n",
        "    model.eval()\n",
        "\n",
        "    mse_loss = nn.MSELoss()\n",
        "    mae_loss = nn.L1Loss()\n",
        "    total_mse = 0.0\n",
        "    total_psnr = 0.0\n",
        "    total_mae = 0.0\n",
        "    count = 0\n",
        "\n",
        "    with torch.no_grad():\n",
        "        for lr_images, _ in dataloader:\n",
        "            hr_images = lr_images    # Assuming LR images are stored as HR images for simplicity in ImageFolder\n",
        "\n",
        "            lr_images = lr_images.to(device)\n",
        "            hr_images = hr_images.to(device)\n",
        "\n",
        "            outputs = model(lr_images)\n",
        "            mse = mse_loss(outputs, hr_images)\n",
        "            psnr = 10 * torch.log10(1 / mse)\n",
        "            mae = mae_loss(outputs, hr_images)\n",
        "\n",
        "            total_mse += mse.item()\n",
        "            total_psnr += psnr.item()\n",
        "            total_mae += mae.item()\n",
        "            count += 1\n",
        "\n",
        "            print(f'Image {count}: PSNR = {psnr:.2f} dB')\n",
        "\n",
        "    avg_mse = total_mse / count\n",
        "    avg_psnr = total_psnr / count\n",
        "    avg_mae = total_mae / count\n",
        "\n",
        "    print(f'Average MSE: {avg_mse:.4f}, Average PSNR: {avg_psnr:.2f} dB, Average MAE: {avg_mae:.4f}')\n",
        "\n",
        "    return avg_mse, avg_psnr, avg_mae"
      ],
      "metadata": {
        "id": "n3NjcYiOLCvS"
      },
      "execution_count": 36,
      "outputs": []
    },
    {
      "cell_type": "code",
      "source": [
        "# Initialize model, loss function, and optimizer\n",
        "model = SRCNN()\n",
        "criterion = nn.MSELoss()\n",
        "optimizer = optim.Adam(model.parameters(), lr=0.001)\n",
        "\n",
        "# Train the model on 'train' dataset\n",
        "train_model(model, criterion, optimizer, train_dataloader, num_epochs=50)\n",
        "\n",
        "# Evaluate on training dataset (optional for demonstration)\n",
        "print(\"Evaluation on training dataset:\")\n",
        "evaluate_model(model, criterion, train_dataloader)"
      ],
      "metadata": {
        "colab": {
          "base_uri": "https://localhost:8080/"
        },
        "id": "MMvFvRQELL1N",
        "outputId": "5fb2c7b3-f64e-45f0-a5df-2946742901a0"
      },
      "execution_count": 37,
      "outputs": [
        {
          "output_type": "stream",
          "name": "stdout",
          "text": [
            "[1,    10] loss: 0.048\n",
            "[1,    20] loss: 0.010\n",
            "[1,    30] loss: 0.006\n",
            "[2,    10] loss: 0.004\n",
            "[2,    20] loss: 0.003\n",
            "[2,    30] loss: 0.003\n",
            "[3,    10] loss: 0.002\n",
            "[3,    20] loss: 0.002\n",
            "[3,    30] loss: 0.002\n",
            "[4,    10] loss: 0.002\n",
            "[4,    20] loss: 0.001\n",
            "[4,    30] loss: 0.001\n",
            "[5,    10] loss: 0.001\n",
            "[5,    20] loss: 0.001\n",
            "[5,    30] loss: 0.001\n",
            "[6,    10] loss: 0.001\n",
            "[6,    20] loss: 0.001\n",
            "[6,    30] loss: 0.001\n",
            "[7,    10] loss: 0.001\n",
            "[7,    20] loss: 0.001\n",
            "[7,    30] loss: 0.001\n",
            "[8,    10] loss: 0.001\n",
            "[8,    20] loss: 0.001\n",
            "[8,    30] loss: 0.001\n",
            "[9,    10] loss: 0.001\n",
            "[9,    20] loss: 0.001\n",
            "[9,    30] loss: 0.001\n",
            "[10,    10] loss: 0.001\n",
            "[10,    20] loss: 0.001\n",
            "[10,    30] loss: 0.001\n",
            "[11,    10] loss: 0.001\n",
            "[11,    20] loss: 0.001\n",
            "[11,    30] loss: 0.001\n",
            "[12,    10] loss: 0.001\n",
            "[12,    20] loss: 0.001\n",
            "[12,    30] loss: 0.001\n",
            "[13,    10] loss: 0.001\n",
            "[13,    20] loss: 0.001\n",
            "[13,    30] loss: 0.001\n",
            "[14,    10] loss: 0.001\n",
            "[14,    20] loss: 0.001\n",
            "[14,    30] loss: 0.001\n",
            "[15,    10] loss: 0.001\n",
            "[15,    20] loss: 0.000\n",
            "[15,    30] loss: 0.000\n",
            "[16,    10] loss: 0.000\n",
            "[16,    20] loss: 0.000\n",
            "[16,    30] loss: 0.001\n",
            "[17,    10] loss: 0.001\n",
            "[17,    20] loss: 0.000\n",
            "[17,    30] loss: 0.000\n",
            "[18,    10] loss: 0.001\n",
            "[18,    20] loss: 0.000\n",
            "[18,    30] loss: 0.000\n",
            "[19,    10] loss: 0.000\n",
            "[19,    20] loss: 0.001\n",
            "[19,    30] loss: 0.001\n",
            "[20,    10] loss: 0.000\n",
            "[20,    20] loss: 0.000\n",
            "[20,    30] loss: 0.000\n",
            "[21,    10] loss: 0.000\n",
            "[21,    20] loss: 0.000\n",
            "[21,    30] loss: 0.000\n",
            "[22,    10] loss: 0.000\n",
            "[22,    20] loss: 0.001\n",
            "[22,    30] loss: 0.000\n",
            "[23,    10] loss: 0.000\n",
            "[23,    20] loss: 0.001\n",
            "[23,    30] loss: 0.000\n",
            "[24,    10] loss: 0.000\n",
            "[24,    20] loss: 0.001\n",
            "[24,    30] loss: 0.000\n",
            "[25,    10] loss: 0.000\n",
            "[25,    20] loss: 0.000\n",
            "[25,    30] loss: 0.000\n",
            "[26,    10] loss: 0.000\n",
            "[26,    20] loss: 0.000\n",
            "[26,    30] loss: 0.000\n",
            "[27,    10] loss: 0.000\n",
            "[27,    20] loss: 0.000\n",
            "[27,    30] loss: 0.000\n",
            "[28,    10] loss: 0.000\n",
            "[28,    20] loss: 0.000\n",
            "[28,    30] loss: 0.000\n",
            "[29,    10] loss: 0.000\n",
            "[29,    20] loss: 0.000\n",
            "[29,    30] loss: 0.000\n",
            "[30,    10] loss: 0.000\n",
            "[30,    20] loss: 0.000\n",
            "[30,    30] loss: 0.000\n",
            "[31,    10] loss: 0.000\n",
            "[31,    20] loss: 0.000\n",
            "[31,    30] loss: 0.000\n",
            "[32,    10] loss: 0.001\n",
            "[32,    20] loss: 0.001\n",
            "[32,    30] loss: 0.001\n",
            "[33,    10] loss: 0.001\n",
            "[33,    20] loss: 0.000\n",
            "[33,    30] loss: 0.000\n",
            "[34,    10] loss: 0.000\n",
            "[34,    20] loss: 0.000\n",
            "[34,    30] loss: 0.000\n",
            "[35,    10] loss: 0.000\n",
            "[35,    20] loss: 0.000\n",
            "[35,    30] loss: 0.000\n",
            "[36,    10] loss: 0.000\n",
            "[36,    20] loss: 0.000\n",
            "[36,    30] loss: 0.000\n",
            "[37,    10] loss: 0.000\n",
            "[37,    20] loss: 0.000\n",
            "[37,    30] loss: 0.000\n",
            "[38,    10] loss: 0.000\n",
            "[38,    20] loss: 0.000\n",
            "[38,    30] loss: 0.000\n",
            "[39,    10] loss: 0.000\n",
            "[39,    20] loss: 0.000\n",
            "[39,    30] loss: 0.000\n",
            "[40,    10] loss: 0.000\n",
            "[40,    20] loss: 0.000\n",
            "[40,    30] loss: 0.000\n",
            "[41,    10] loss: 0.000\n",
            "[41,    20] loss: 0.000\n",
            "[41,    30] loss: 0.000\n",
            "[42,    10] loss: 0.000\n",
            "[42,    20] loss: 0.000\n",
            "[42,    30] loss: 0.000\n",
            "[43,    10] loss: 0.000\n",
            "[43,    20] loss: 0.000\n",
            "[43,    30] loss: 0.000\n",
            "[44,    10] loss: 0.000\n",
            "[44,    20] loss: 0.000\n",
            "[44,    30] loss: 0.000\n",
            "[45,    10] loss: 0.000\n",
            "[45,    20] loss: 0.000\n",
            "[45,    30] loss: 0.000\n",
            "[46,    10] loss: 0.001\n",
            "[46,    20] loss: 0.001\n",
            "[46,    30] loss: 0.000\n",
            "[47,    10] loss: 0.000\n",
            "[47,    20] loss: 0.000\n",
            "[47,    30] loss: 0.000\n",
            "[48,    10] loss: 0.000\n",
            "[48,    20] loss: 0.000\n",
            "[48,    30] loss: 0.000\n",
            "[49,    10] loss: 0.000\n",
            "[49,    20] loss: 0.000\n",
            "[49,    30] loss: 0.000\n",
            "[50,    10] loss: 0.000\n",
            "[50,    20] loss: 0.000\n",
            "[50,    30] loss: 0.000\n",
            "Finished Training\n",
            "Evaluation on training dataset:\n",
            "Image 1: PSNR = 39.41 dB\n",
            "Image 2: PSNR = 37.54 dB\n",
            "Image 3: PSNR = 38.69 dB\n",
            "Image 4: PSNR = 40.99 dB\n",
            "Image 5: PSNR = 36.97 dB\n",
            "Image 6: PSNR = 40.35 dB\n",
            "Image 7: PSNR = 38.87 dB\n",
            "Image 8: PSNR = 37.61 dB\n",
            "Image 9: PSNR = 38.08 dB\n",
            "Image 10: PSNR = 40.04 dB\n",
            "Image 11: PSNR = 40.41 dB\n",
            "Image 12: PSNR = 37.01 dB\n",
            "Image 13: PSNR = 39.97 dB\n",
            "Image 14: PSNR = 39.23 dB\n",
            "Image 15: PSNR = 37.84 dB\n",
            "Image 16: PSNR = 37.83 dB\n",
            "Image 17: PSNR = 38.85 dB\n",
            "Image 18: PSNR = 37.94 dB\n",
            "Image 19: PSNR = 38.08 dB\n",
            "Image 20: PSNR = 37.74 dB\n",
            "Image 21: PSNR = 39.52 dB\n",
            "Image 22: PSNR = 35.95 dB\n",
            "Image 23: PSNR = 37.87 dB\n",
            "Image 24: PSNR = 39.23 dB\n",
            "Image 25: PSNR = 39.29 dB\n",
            "Image 26: PSNR = 38.96 dB\n",
            "Image 27: PSNR = 36.77 dB\n",
            "Image 28: PSNR = 38.17 dB\n",
            "Image 29: PSNR = 39.37 dB\n",
            "Image 30: PSNR = 38.20 dB\n",
            "Image 31: PSNR = 39.44 dB\n",
            "Average MSE: 0.0001, Average PSNR: 38.59 dB, Average MAE: 0.0065\n"
          ]
        },
        {
          "output_type": "execute_result",
          "data": {
            "text/plain": [
              "(0.0001434544190546618, 38.58813661144626, 0.006488588713710347)"
            ]
          },
          "metadata": {},
          "execution_count": 37
        }
      ]
    },
    {
      "cell_type": "code",
      "source": [
        "\n",
        "\n",
        "from sklearn.model_selection import train_test_split\n",
        "from sklearn.preprocessing import StandardScaler\n",
        "from sklearn.ensemble import RandomForestClassifier\n",
        "from sklearn.metrics import accuracy_score"
      ],
      "metadata": {
        "id": "NacdIDhqPXKa"
      },
      "execution_count": null,
      "outputs": []
    },
    {
      "cell_type": "code",
      "source": [
        "import os\n",
        "class TestImageDataset(Dataset):\n",
        "    def __init__(self, low_res_dir, transform=None):\n",
        "        self.low_res_dir = low_res_dir\n",
        "        self.low_res_files = os.listdir(low_res_dir)\n",
        "        self.transform = transform\n",
        "\n",
        "    def __len__(self):\n",
        "        return len(self.low_res_files)\n",
        "\n",
        "    def __getitem__(self, idx):\n",
        "        img_name = self.low_res_files[idx]\n",
        "        img_path = os.path.join(self.low_res_dir, img_name)\n",
        "        image = Image.open(img_path)\n",
        "\n",
        "        if self.transform:\n",
        "            image = self.transform(image)\n",
        "\n",
        "        return image, img_name\n",
        "\n",
        "\n",
        "if not os.path.exists('/content/extracted_dataset/predicted1'):\n",
        "        os.makedirs('/content/extracted_dataset/predicted1')\n",
        "\n",
        "\n",
        "\n",
        "\n",
        "test_dataset = TestImageDataset(low_res_dir='/content/extracted_dataset/test', transform=transform)\n",
        "test_dataloader = DataLoader(test_dataset, batch_size=1, shuffle=False, num_workers=0)"
      ],
      "metadata": {
        "id": "5G_uOrC5Pk_X"
      },
      "execution_count": 32,
      "outputs": []
    },
    {
      "cell_type": "code",
      "source": [
        "device = torch.device(\"cuda\" if torch.cuda.is_available() else \"cpu\")\n",
        "model.to(device)\n",
        "model.eval()\n",
        "\n",
        "\n",
        "with torch.no_grad():\n",
        "        for lr_image, img_name in test_dataloader:\n",
        "            lr_image = lr_image.to(device)\n",
        "            output = model(lr_image)\n",
        "            output_image_path = os.path.join('/content/extracted_dataset/predicted1', img_name[0])\n",
        "            save_image(output, output_image_path)"
      ],
      "metadata": {
        "id": "PmxVYBRzePAo"
      },
      "execution_count": null,
      "outputs": []
    },
    {
      "cell_type": "code",
      "source": [
        "def evaluate_psnr(model, criterion, dataloader):\n",
        "    device = torch.device(\"cuda\" if torch.cuda.is_available() else \"cpu\")\n",
        "    model.to(device)\n",
        "    model.eval()\n",
        "\n",
        "    mse_loss = nn.MSELoss()\n",
        "    mae_loss = nn.L1Loss()\n",
        "    total_mse = 0.0\n",
        "    total_psnr = 0.0\n",
        "    total_mae = 0.0\n",
        "    count = 0\n",
        "\n",
        "    with torch.no_grad():\n",
        "        for lr_images, _ in test_dataloader:\n",
        "            hr_images = lr_images    # Assuming LR images are stored as HR images for simplicity in ImageFolder\n",
        "\n",
        "            lr_images = lr_images.to(device)\n",
        "            hr_images = hr_images.to(device)\n",
        "\n",
        "            outputs = model(lr_images)\n",
        "            mse = mse_loss(outputs, hr_images)\n",
        "            psnr = 10 * torch.log10(1 / mse)\n",
        "            mae = mae_loss(outputs, hr_images)\n",
        "\n",
        "            total_mse += mse.item()\n",
        "            total_psnr += psnr.item()\n",
        "            total_mae += mae.item()\n",
        "            count += 1\n",
        "\n",
        "            print(f'Image {count}: PSNR = {psnr:.2f} dB')\n",
        "\n",
        "    avg_psnr = total_psnr/count\n",
        "    print(f'Average PSNR: {avg_psnr:.2f} dB')\n",
        "\n",
        "    return avg_psnr\n",
        "\n",
        "\n",
        "evaluate_psnr(model,criterion,test_dataloader)"
      ],
      "metadata": {
        "id": "drsezH7ueRxi"
      },
      "execution_count": null,
      "outputs": []
    }
  ]
}